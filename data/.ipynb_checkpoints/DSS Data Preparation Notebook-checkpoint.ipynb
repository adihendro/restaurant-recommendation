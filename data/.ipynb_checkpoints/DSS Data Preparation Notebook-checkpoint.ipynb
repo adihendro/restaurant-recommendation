{
 "cells": [
  {
   "cell_type": "code",
   "execution_count": null,
   "metadata": {},
   "outputs": [],
   "source": [
    "# Tugas Sistem Pendukung Pengambilan Keputusan\n",
    "# Sistem Rekomendasi Restoran di Jakarta\n",
    "## Last Updated 24 November 2021\n",
    "\n",
    "## Kelompok 4 II4021 Sistem Pendukung Pengambilan Keputusan\n",
    "## 18218009 Adi Hendro\n",
    "## 18218021 Muhamad Ilman Sukarsa\n",
    "## 18218037 Wita Dewisari Tasya"
   ]
  },
  {
   "cell_type": "code",
   "execution_count": 15,
   "metadata": {},
   "outputs": [
    {
     "name": "stdout",
     "output_type": "stream",
     "text": [
      "Ukuran Data Awal dan Gambaran Data\n",
      "\n",
      "Dataframe 1 - Restoran (136, 9)\n",
      "\n",
      "Dataframe 2 - Dimsum (165, 8)\n",
      "\n",
      "Dataframe 3 - Noodle (151, 8)\n",
      "\n",
      "Dataframe 4 - Sushi (137, 8)\n"
     ]
    },
    {
     "data": {
      "text/plain": [
       "'\\nrest_name = nama restauran\\nrest_zone = daerah restoran\\nrating = nilai rating restoran\\nreview = jumlah ulasan (berbentuk \"x Ulasan\")\\nrest_address = alamat restoran\\nrest_type = jenis restoran\\nrest_cost = biaya makan perkiraan di restoran (berbentuk \"Harga untuk 2:Rpx.000\")\\nrest_time = jam dan hari operasional restoran\\n'"
      ]
     },
     "execution_count": 15,
     "metadata": {},
     "output_type": "execute_result"
    }
   ],
   "source": [
    "# Data Undestanding\n",
    "'''Pengumpulan data melalui dataset yang didapatkan dari zomato-kaggle'''\n",
    "\n",
    "## Import Library yang Digunakan\n",
    "import pandas as pd\n",
    "import matplotlib.pyplot as plt\n",
    "\n",
    "## Kamus Dataframe\n",
    "'''\n",
    "df = dataframe final yang akan digunakan\n",
    "df1 = restoran.csv\n",
    "df2 = Dimsum.csv\n",
    "df3 = Noodle.csv\n",
    "df4 = Sushi.csv\n",
    "'''\n",
    "\n",
    "## Import Dataframe untuk melihat struktur data\n",
    "df1 = pd.read_csv(\"restoran.csv\", sep=\";\")\n",
    "df2 = pd.read_csv(\"Dimsum.csv\")\n",
    "df3 = pd.read_csv(\"Noodle.csv\")\n",
    "df4 = pd.read_csv(\"Sushi.csv\")\n",
    "\n",
    "#### Ukuran Data dan Gambaran Data\n",
    "print(\"Ukuran Data Awal dan Gambaran Data\")\n",
    "print(\"\")\n",
    "\n",
    "print(\"Dataframe 1 - Restoran\", df1.shape)\n",
    "'''\n",
    "Restaurant Name = nama restoran\n",
    "Restaurant Type = jenis restoran\n",
    "Restaurant Area = daerah restoran\n",
    "Restaurant Rating = rating restoran\n",
    "Restaurant Review = jumlah ulasan (berbentuk \"x Reviews\")\n",
    "Restaurant Address = alamat restoran\n",
    "Latitude = garis lintang posisi restoran\n",
    "Longitude = garis bujur posisi restoran\n",
    "Price = harga estimasi untuk makan di restoran\n",
    "'''\n",
    "print(\"\")\n",
    "\n",
    "print(\"Dataframe 2 - Dimsum\", df2.shape)\n",
    "'''\n",
    "rest_name = nama restoran\n",
    "rest_zone = daerah restoran\n",
    "rating = rating restoran\n",
    "review = jumlah ulasan (berbentuk \"(x Ulasan)\")\n",
    "rest_address = alamat restoran\n",
    "rest_type = jenis restoran\n",
    "rest_cost = biaya makan perkiraan di restoran (berbentuk \"Harga untuk 2:Rpx.000\")\n",
    "rest_time = jam dan hari operasional restoran\n",
    "'''\n",
    "print(\"\")\n",
    "\n",
    "print(\"Dataframe 3 - Noodle\", df3.shape)\n",
    "'''\n",
    "rest_name = nama restauran\n",
    "rest_zone = daerah restoran\n",
    "rating = nilai rating restoran\n",
    "review = jumlah ulasan (berbentuk \"x Ulasan\")\n",
    "rest_address = alamat restoran\n",
    "rest_type = jenis restoran\n",
    "rest_cost = biaya makan perkiraan di restoran (berbentuk \"Harga untuk 2:Rpx.000\")\n",
    "rest_time = jam dan hari operasional restoran\n",
    "'''\n",
    "print(\"\")\n",
    "\n",
    "print(\"Dataframe 4 - Sushi\", df4.shape)\n",
    "'''\n",
    "rest_name = nama restauran\n",
    "rest_zone = daerah restoran\n",
    "rating = nilai rating restoran\n",
    "review = jumlah ulasan (berbentuk \"x Ulasan\")\n",
    "rest_address = alamat restoran\n",
    "rest_type = jenis restoran\n",
    "rest_cost = biaya makan perkiraan di restoran (berbentuk \"Harga untuk 2:Rpx.000\")\n",
    "rest_time = jam dan hari operasional restoran\n",
    "'''"
   ]
  },
  {
   "cell_type": "code",
   "execution_count": null,
   "metadata": {},
   "outputs": [],
   "source": [
    "#Data Cleaning"
   ]
  },
  {
   "cell_type": "code",
   "execution_count": null,
   "metadata": {},
   "outputs": [],
   "source": []
  }
 ],
 "metadata": {
  "kernelspec": {
   "display_name": "Python 3",
   "language": "python",
   "name": "python3"
  },
  "language_info": {
   "codemirror_mode": {
    "name": "ipython",
    "version": 3
   },
   "file_extension": ".py",
   "mimetype": "text/x-python",
   "name": "python",
   "nbconvert_exporter": "python",
   "pygments_lexer": "ipython3",
   "version": "3.7.3"
  }
 },
 "nbformat": 4,
 "nbformat_minor": 2
}
