{
 "cells": [
  {
   "cell_type": "code",
   "execution_count": 1,
   "metadata": {},
   "outputs": [],
   "source": [
    "import pandas as pd"
   ]
  },
  {
   "cell_type": "code",
   "execution_count": 2,
   "metadata": {},
   "outputs": [],
   "source": [
    "restoran_df = pd.read_csv('../data/dataFinal.csv')"
   ]
  },
  {
   "cell_type": "code",
   "execution_count": 3,
   "metadata": {},
   "outputs": [],
   "source": [
    "restoran_df = restoran_df.drop(['Unnamed: 0','Price'],axis=1)"
   ]
  },
  {
   "cell_type": "code",
   "execution_count": 4,
   "metadata": {},
   "outputs": [],
   "source": [
    "restoran_df = restoran_df.drop(index=135, axis=0)"
   ]
  },
  {
   "cell_type": "code",
   "execution_count": 5,
   "metadata": {},
   "outputs": [
    {
     "data": {
      "text/html": [
       "<div>\n",
       "<style scoped>\n",
       "    .dataframe tbody tr th:only-of-type {\n",
       "        vertical-align: middle;\n",
       "    }\n",
       "\n",
       "    .dataframe tbody tr th {\n",
       "        vertical-align: top;\n",
       "    }\n",
       "\n",
       "    .dataframe thead th {\n",
       "        text-align: right;\n",
       "    }\n",
       "</style>\n",
       "<table border=\"1\" class=\"dataframe\">\n",
       "  <thead>\n",
       "    <tr style=\"text-align: right;\">\n",
       "      <th></th>\n",
       "      <th>Restaurant_ID</th>\n",
       "      <th>Name</th>\n",
       "      <th>Type</th>\n",
       "      <th>Area</th>\n",
       "      <th>Rating</th>\n",
       "      <th>Review</th>\n",
       "      <th>Restaurant Address</th>\n",
       "      <th>Latitude</th>\n",
       "      <th>Longitude</th>\n",
       "    </tr>\n",
       "  </thead>\n",
       "  <tbody>\n",
       "    <tr>\n",
       "      <th>0</th>\n",
       "      <td>0</td>\n",
       "      <td>Hause Rooftop</td>\n",
       "      <td>['Casual Dining', 'Bar', 'Western', 'Coffee', ...</td>\n",
       "      <td>Setiabudi</td>\n",
       "      <td>4.3</td>\n",
       "      <td>1282.0</td>\n",
       "      <td>MD Place Bulding, Lantai 6, Jl. Setiabudi Sela...</td>\n",
       "      <td>-62.081.643.570</td>\n",
       "      <td>106.828.454.285</td>\n",
       "    </tr>\n",
       "    <tr>\n",
       "      <th>1</th>\n",
       "      <td>1</td>\n",
       "      <td>The Neighbourhood</td>\n",
       "      <td>['Fine Dining', 'Indonesian']</td>\n",
       "      <td>Dharmawangsa</td>\n",
       "      <td>4.4</td>\n",
       "      <td>770.0</td>\n",
       "      <td>Jl. Cipaku I No. 85, Dharmawangsa, Jakarta 12170</td>\n",
       "      <td>-62.395.528.820</td>\n",
       "      <td>106.814.613.081</td>\n",
       "    </tr>\n",
       "    <tr>\n",
       "      <th>2</th>\n",
       "      <td>2</td>\n",
       "      <td>SKYE</td>\n",
       "      <td>['Fine Dining', 'Lounge', 'Fusion', 'European'...</td>\n",
       "      <td>Thamrin</td>\n",
       "      <td>4.3</td>\n",
       "      <td>2827.0</td>\n",
       "      <td>Menara BCA, Lantai 56, Jl. MH. Thamrin, Thamri...</td>\n",
       "      <td>-61.967.130.000</td>\n",
       "      <td>106.822.580.000</td>\n",
       "    </tr>\n",
       "    <tr>\n",
       "      <th>3</th>\n",
       "      <td>3</td>\n",
       "      <td>WAKI Japanese BBQ Dining</td>\n",
       "      <td>['Casual Dining', 'Japanese', 'BBQ']</td>\n",
       "      <td>Thamrin</td>\n",
       "      <td>4.9</td>\n",
       "      <td>2995.0</td>\n",
       "      <td>Lantai 1, Jl. Tanjung Karang No. 5, Thamrin, J...</td>\n",
       "      <td>-62.011.260.000</td>\n",
       "      <td>106.822.306.000</td>\n",
       "    </tr>\n",
       "    <tr>\n",
       "      <th>4</th>\n",
       "      <td>4</td>\n",
       "      <td>3 Wise Monkeys</td>\n",
       "      <td>['Casual Dining', 'Japanese', 'Sushi']</td>\n",
       "      <td>Senopati</td>\n",
       "      <td>4.2</td>\n",
       "      <td>2091.0</td>\n",
       "      <td>Jl. Senopati No. 46, Senopati, Jakarta</td>\n",
       "      <td>-62.311.835.698</td>\n",
       "      <td>106.808.081.232</td>\n",
       "    </tr>\n",
       "  </tbody>\n",
       "</table>\n",
       "</div>"
      ],
      "text/plain": [
       "   Restaurant_ID                      Name  \\\n",
       "0              0             Hause Rooftop   \n",
       "1              1         The Neighbourhood   \n",
       "2              2                      SKYE   \n",
       "3              3  WAKI Japanese BBQ Dining   \n",
       "4              4            3 Wise Monkeys   \n",
       "\n",
       "                                                Type          Area  Rating  \\\n",
       "0  ['Casual Dining', 'Bar', 'Western', 'Coffee', ...     Setiabudi     4.3   \n",
       "1                      ['Fine Dining', 'Indonesian']  Dharmawangsa     4.4   \n",
       "2  ['Fine Dining', 'Lounge', 'Fusion', 'European'...       Thamrin     4.3   \n",
       "3               ['Casual Dining', 'Japanese', 'BBQ']       Thamrin     4.9   \n",
       "4             ['Casual Dining', 'Japanese', 'Sushi']      Senopati     4.2   \n",
       "\n",
       "   Review                                 Restaurant Address         Latitude  \\\n",
       "0  1282.0  MD Place Bulding, Lantai 6, Jl. Setiabudi Sela...  -62.081.643.570   \n",
       "1   770.0   Jl. Cipaku I No. 85, Dharmawangsa, Jakarta 12170  -62.395.528.820   \n",
       "2  2827.0  Menara BCA, Lantai 56, Jl. MH. Thamrin, Thamri...  -61.967.130.000   \n",
       "3  2995.0  Lantai 1, Jl. Tanjung Karang No. 5, Thamrin, J...  -62.011.260.000   \n",
       "4  2091.0             Jl. Senopati No. 46, Senopati, Jakarta  -62.311.835.698   \n",
       "\n",
       "         Longitude  \n",
       "0  106.828.454.285  \n",
       "1  106.814.613.081  \n",
       "2  106.822.580.000  \n",
       "3  106.822.306.000  \n",
       "4  106.808.081.232  "
      ]
     },
     "execution_count": 5,
     "metadata": {},
     "output_type": "execute_result"
    }
   ],
   "source": [
    "restoran_df.head()"
   ]
  },
  {
   "cell_type": "markdown",
   "metadata": {},
   "source": [
    "# Weighted Filtering"
   ]
  },
  {
   "cell_type": "code",
   "execution_count": 6,
   "metadata": {},
   "outputs": [],
   "source": [
    "def calculate(restoran_df, restoran_type, restoran_area, prioritas_1, prioritas_2, prioritas_3):\n",
    "    value_df = []\n",
    "\n",
    "    type_prio = (0.5 if prioritas_1 == \"jenis\" else 0.3 if prioritas_2 == \"jenis\" else 0.2)\n",
    "    area_prio = (0.5 if prioritas_1 == \"lokasi\" else 0.3 if prioritas_2 == \"lokasi\" else 0.2)\n",
    "    rating_prio = (0.5 if prioritas_1 == \"rating\" else 0.3 if prioritas_2 == \"rating\" else 0.2)\n",
    "\n",
    "    for x in range(len(restoran_df)):\n",
    "        resto_value = 0\n",
    "\n",
    "        if restoran_type in str(restoran_df[restoran_df['Restaurant_ID'] == x]['Type'].values[0]):\n",
    "            resto_value += type_prio * 1\n",
    "\n",
    "        if restoran_area == str(restoran_df[restoran_df['Restaurant_ID'] == x]['Area'].values[0]):\n",
    "            resto_value += area_prio * 1\n",
    "\n",
    "        resto_value += rating_prio * (restoran_df[restoran_df['Restaurant_ID'] == x]['Rating'].values[0]/5)\n",
    "\n",
    "        value_df.append(resto_value)\n",
    "\n",
    "    return value_df"
   ]
  },
  {
   "cell_type": "code",
   "execution_count": 17,
   "metadata": {},
   "outputs": [],
   "source": [
    "value_df = calculate(restoran_df, \"Casual Dining\", \"Setiabudi\", \"rating\", \"jenis\", \"lokasi\")"
   ]
  },
  {
   "cell_type": "code",
   "execution_count": 18,
   "metadata": {},
   "outputs": [],
   "source": [
    "restoran_df = restoran_df.sort_values(by='Restaurant_ID')\n",
    "restoran_df['Value'] = value_df"
   ]
  },
  {
   "cell_type": "code",
   "execution_count": 19,
   "metadata": {},
   "outputs": [],
   "source": [
    "restoran_df = restoran_df.sort_values(by='Value', ascending=False)"
   ]
  },
  {
   "cell_type": "code",
   "execution_count": 20,
   "metadata": {},
   "outputs": [
    {
     "name": "stdout",
     "output_type": "stream",
     "text": [
      "The 3 Most recommended restaurants for You are:\n",
      "\n",
      "1 Pokenbir\n",
      "2 Warung MJS\n",
      "3 Hause Rooftop\n"
     ]
    }
   ],
   "source": [
    "print('The 3 Most recommended restaurants for You are:\\n')\n",
    "j = 0\n",
    "for x in range(3):\n",
    "    print(j+1, restoran_df['Name'].values[x])\n",
    "    j = j + 1"
   ]
  },
  {
   "cell_type": "markdown",
   "metadata": {},
   "source": [
    "# Content Based Filtering"
   ]
  },
  {
   "cell_type": "code",
   "execution_count": 11,
   "metadata": {},
   "outputs": [],
   "source": [
    "import re as re\n",
    "from sklearn.feature_extraction.text import CountVectorizer\n",
    "from sklearn.metrics.pairwise import cosine_similarity"
   ]
  },
  {
   "cell_type": "code",
   "execution_count": 12,
   "metadata": {},
   "outputs": [],
   "source": [
    "def get_important_features(data):\n",
    "    important_features = []\n",
    "    for i in range(0, data.shape[0]):\n",
    "        x = (str(data['Type'][i])+' '+str(data['Area'][i]))\n",
    "        x = x.lower()\n",
    "        x = re.sub(r'[^.,a-zA-Z0-9 \\n\\.]',' ',x)\n",
    "        x = re.sub(r'[^\\w\\s]','',x)\n",
    "        x = re.sub('[\\s]+', ' ', x)\n",
    "        important_features.append(x)\n",
    "\n",
    "    return important_features"
   ]
  },
  {
   "cell_type": "code",
   "execution_count": 13,
   "metadata": {},
   "outputs": [],
   "source": [
    "restoran_df['Important_Features'] = get_important_features(restoran_df)"
   ]
  },
  {
   "cell_type": "code",
   "execution_count": 14,
   "metadata": {},
   "outputs": [],
   "source": [
    "cm = CountVectorizer().fit_transform(restoran_df['Important_Features'])\n",
    "cs = cosine_similarity(cm)"
   ]
  },
  {
   "cell_type": "code",
   "execution_count": 15,
   "metadata": {},
   "outputs": [],
   "source": [
    "product_name = 'OKU - Hotel Indonesia Kempinski'\n",
    "\n",
    "product_id = restoran_df[restoran_df[\"Name\"] == product_name]['Restaurant_ID'].values[0]\n",
    "\n",
    "scores = list(enumerate(cs[product_id]))\n",
    "\n",
    "sorted_scores = sorted(scores, key = lambda x:x[1], reverse=True)\n",
    "sorted_scores = sorted_scores[1:4]"
   ]
  },
  {
   "cell_type": "code",
   "execution_count": 16,
   "metadata": {},
   "outputs": [
    {
     "name": "stdout",
     "output_type": "stream",
     "text": [
      "The 3 Most recommended restaurants to OKU - Hotel Indonesia Kempinski are:\n",
      "\n",
      "1 Henshin - The Westin Jakarta\n",
      "2 Sana Sini Restaurant - Pullman Jakarta Indonesia\n",
      "3 OSO Ristorante\n"
     ]
    }
   ],
   "source": [
    "print('The 3 Most recommended restaurants to', product_name, 'are:\\n')\n",
    "j = 0\n",
    "for item in sorted_scores:\n",
    "    product_name = restoran_df[restoran_df['Restaurant_ID'] == sorted_scores[j][0]]['Name'].values[0]\n",
    "    print(j+1, product_name)\n",
    "    j = j + 1"
   ]
  }
 ],
 "metadata": {
  "interpreter": {
   "hash": "8da01e5a71448ea74f54d88afa8911010d1d12e23bc7e103d40d5def4a09152c"
  },
  "kernelspec": {
   "display_name": "Python 3.9.4 64-bit",
   "language": "python",
   "name": "python3"
  },
  "language_info": {
   "codemirror_mode": {
    "name": "ipython",
    "version": 3
   },
   "file_extension": ".py",
   "mimetype": "text/x-python",
   "name": "python",
   "nbconvert_exporter": "python",
   "pygments_lexer": "ipython3",
   "version": "3.9.4"
  },
  "orig_nbformat": 4
 },
 "nbformat": 4,
 "nbformat_minor": 2
}
